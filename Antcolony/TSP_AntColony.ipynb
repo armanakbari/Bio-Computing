{
  "nbformat": 4,
  "nbformat_minor": 0,
  "metadata": {
    "colab": {
      "provenance": []
    },
    "kernelspec": {
      "name": "python3",
      "display_name": "Python 3"
    },
    "language_info": {
      "name": "python"
    }
  },
  "cells": [
    {
      "cell_type": "code",
      "execution_count": 11,
      "metadata": {
        "id": "yqu8OIMTqOSr"
      },
      "outputs": [],
      "source": [
        "import pandas as pd \n",
        "import numpy as np \n",
        "import math\n",
        "import random "
      ]
    },
    {
      "cell_type": "code",
      "source": [
        "def fitness(a):\n",
        "\n",
        "    print(\"Guaranteed \")\n",
        "    fit = int(0)\n",
        "    for i in range(0, len(a)-1):\n",
        "        fit = fit + adj[a[i]][a[i+1]]\n",
        "    fit = fit + adj[a[len(a)-1]][a[0]] \n",
        "    \n",
        "    return fit "
      ],
      "metadata": {
        "id": "x9PG50w7qURn"
      },
      "execution_count": 12,
      "outputs": []
    },
    {
      "cell_type": "code",
      "source": [
        "class Ant:\n",
        "    def __init__(self, myID, cur):\n",
        "        self.visited = [] \n",
        "        self.id = myID\n",
        "        self.current = int(cur) \n",
        "        self.fitness = 0"
      ],
      "metadata": {
        "id": "y_1eFzyRqUid"
      },
      "execution_count": 13,
      "outputs": []
    },
    {
      "cell_type": "code",
      "source": [
        "class Solver:\n",
        "    def __init__(self, n, l, alpha, beta, rEvap, pheroC, ages):\n",
        "        self.ages = ages\n",
        "        self.n = n\n",
        "        self.l = l #number of ants\n",
        "        self.alpha = alpha \n",
        "        self.beta = beta\n",
        "        self.rEvap = rEvap \n",
        "        self.pheroC = pheroC \n",
        "\n",
        "        self.phero = [[1 for i in range(n)] for j in range(n)] \n",
        "        self.ants = []\n",
        "\n",
        "        self.ans = []\n",
        "        self.ansFitness = 9999999999\n",
        "        for i in range(n):\n",
        "            for j in range(n):\n",
        "                if i != j:\n",
        "                    self.phero[i][j] = 1\n",
        "    def solve(self):\n",
        "        self.history = []\n",
        "        for _ in range(self.ages):\n",
        "            self.ants = []\n",
        "            if _%1 == 0 and _ != 0:\n",
        "                self.history.append(self.ansFitness)\n",
        "            for i in range(self.l):\n",
        "                self.firstPos = random.choice(range(self.n))\n",
        "                self.newAnt = Ant(myID = i, cur = self.firstPos)\n",
        "                self.newAnt.visited.append(self.firstPos)\n",
        "                self.ants.append(self.newAnt)\n",
        "                \n",
        "            for i in range(self.n-1): #Every ant must move n-1 time\n",
        "                \n",
        "                for j in range(self.l):\n",
        "                    self.Move(self.ants[j])\n",
        "            \n",
        "            for j in range(self.l):\n",
        "                self.ants[j].fitness+= adj[self.ants[j].current][self.ants[j].visited[0]] #back to the first one\n",
        "            for i in range(self.l):\n",
        "                if self.ants[i].fitness < self.ansFitness:\n",
        "                    self.ansFitness = self.ants[i].fitness\n",
        "                    self.ans = self.ants[i].visited\n",
        "            self.Evaporate()\n",
        "\n",
        "    def goTo(self, A):\n",
        "        self.Sigma = 0\n",
        "        self.allowed = {i for i in range(self.n)}\n",
        "        self.visTemp = {x for x in A.visited}\n",
        "        self.allowed = self.allowed.difference(self.visTemp)\n",
        "        self.allowed = list(self.allowed)\n",
        "        for x in self.allowed:\n",
        "            if adj[A.current][x] == 0:\n",
        "                adj[A.current][x] = 99\n",
        "            self.Sigma += self.phero[A.current][x] **self.alpha * ( (1 / adj[A.current][x] ) ** self.beta ) \n",
        "            \n",
        "        self.weighted = [ (self.phero[A.current][x]**self.alpha * (1/adj[A.current][x])**self.beta)/self.Sigma  for x in self.allowed]\n",
        "        #print(allowed)\n",
        "        #print(weighted)\n",
        "        \n",
        "        self.chosen = random.choices(population=self.allowed, weights=self.weighted, k = 1)\n",
        "        self.chosen = self.chosen[0]\n",
        "        #print(chosen)\n",
        "        return int(self.chosen)\n",
        "\n",
        "    def Move(self, A):\n",
        "        choose = self.goTo(A)\n",
        "        self.phero[A.current][choose] += self.pheroC/adj[A.current][choose]\n",
        "        self.phero[choose][A.current] = self.phero[A.current][choose]\n",
        "        A.fitness += adj[A.current][choose]\n",
        "        A.current = choose\n",
        "        A.visited.append(choose)\n",
        "    \n",
        "    \n",
        "\n",
        "    def Evaporate(self):\n",
        "        for i in range(self.n):\n",
        "            for j in range(i+1, self.n):\n",
        "                self.phero[i][j] *= (1-self.rEvap)\n",
        "                self.phero[i][j] = max(self.phero[i][j], 0.2)\n",
        "                self.phero[j][i] = self.phero[i][j]\n",
        "            "
      ],
      "metadata": {
        "id": "5hgmvaalqU4E"
      },
      "execution_count": 14,
      "outputs": []
    },
    {
      "cell_type": "markdown",
      "source": [
        "The Solver class represents the solver for the TSP using the ACO algorithm. In the constructor __init__, the necessary parameters such as the number of cities (n), number of ants (l), pheromone evaporation rate (rEvap), and pheromone constant (pheroC) are initialized. The pheromone matrix is also initialized, and ants are created with their initial positions.\n",
        "\n",
        "The solve method performs the main optimization loop. It iterates over a given number of ages, where in each iteration, ants are created and moved through the cities. The ants choose the next city to visit based on the pheromone levels and distance information. After completing the tour, the fitness of each ant is calculated, and if a better solution is found, it is updated. The pheromone is evaporated, and the process continues until all iterations are completed.\n",
        "\n",
        "The goTo method calculates the probabilities for the ant to move to each unvisited city based on the pheromone and distance information. The Move method chooses the next city for the ant based on the probabilities calculated by goTo and updates the pheromone levels and fitness accordingly. The Evaporate method reduces the pheromone levels with a given evaporation rate, ensuring a balance between exploration and exploitation.\n",
        "\n",
        "Overall, the code sets up the necessary parameters, initializes ants, performs ant movement, updates pheromone levels, and continues the process for a given number of iterations, aiming to find an optimal solution for the TSP using the ACO algorithm."
      ],
      "metadata": {
        "id": "7hcXkq-Z6Ftu"
      }
    },
    {
      "cell_type": "code",
      "source": [
        "def inputpr1002(path):\n",
        "    def dist(i,j):\n",
        "        res = math.sqrt((nodes[i][0]-nodes[j][0])**2+(nodes[i][1]-nodes[j][1])**2)\n",
        "        return int(res)\n",
        "    \n",
        "    f = open(path)\n",
        "    inp = f.read()\n",
        "    f.close()\n",
        "\n",
        "    nodes = [(float(e.split()[1]),float(e.split()[2])) for e in inp.split('\\n')[6:-1]]\n",
        "\n",
        "    mat = [[dist(i,j) for j in range(len(nodes))] for i in range(len(nodes))]\n",
        "    return len(mat),mat\n",
        "\n",
        "\n",
        "size, adj = inputpr1002('/content/pr1002.tsp')\n",
        "instance1002 = Solver(1002, 10, 0.5, 5, 1/80, 5, 50)"
      ],
      "metadata": {
        "id": "Vjyi0P-HqVSG"
      },
      "execution_count": 15,
      "outputs": []
    },
    {
      "cell_type": "code",
      "source": [
        "f = open(\"/content/gr229.tsp\")\n",
        "inp = f.read()\n",
        "f.close()\n",
        "nodes = [(float(e.split()[1]),float(e.split()[2])) for e in inp.split('\\n')[7:-2]]\n",
        "adj = [[int(math.sqrt((nodes[i][0]-nodes[j][0])**2+(nodes[i][1]-nodes[j][1])**2)) for j in range(len(nodes))] for i in range(len(nodes))]\n",
        "instance229 = Solver(229, 10, 0.5, 5, 1/80, 5, 50)"
      ],
      "metadata": {
        "id": "yNLYpMZuqVJg"
      },
      "execution_count": 24,
      "outputs": []
    },
    {
      "cell_type": "code",
      "source": [
        "instance1002.solve()"
      ],
      "metadata": {
        "id": "sv9y3zNutdCg"
      },
      "execution_count": 16,
      "outputs": []
    },
    {
      "cell_type": "code",
      "source": [
        "print(\"Distance for pr1002.tsp input: \", instance1002.ansFitness)\n",
        "print(\"List of cities: \", instance1002.ans)"
      ],
      "metadata": {
        "colab": {
          "base_uri": "https://localhost:8080/"
        },
        "id": "X2Q1wmfX3aUB",
        "outputId": "e021568b-d0d2-43c3-d43b-907166f02ae3"
      },
      "execution_count": 22,
      "outputs": [
        {
          "output_type": "stream",
          "name": "stdout",
          "text": [
            "Distance for pr1002.tsp input:  375269\n",
            "List of cities:  [356, 357, 358, 359, 360, 350, 349, 348, 345, 346, 347, 389, 391, 390, 352, 351, 338, 339, 388, 392, 386, 385, 387, 393, 394, 383, 382, 384, 381, 379, 380, 377, 367, 366, 365, 364, 362, 361, 363, 658, 657, 654, 655, 656, 651, 652, 653, 642, 643, 650, 647, 645, 644, 648, 649, 646, 638, 639, 372, 371, 370, 369, 368, 376, 378, 411, 410, 409, 415, 413, 414, 416, 405, 406, 401, 402, 403, 287, 286, 285, 284, 283, 282, 281, 280, 276, 277, 279, 278, 112, 110, 109, 111, 113, 114, 115, 117, 105, 104, 103, 102, 101, 100, 99, 132, 133, 94, 95, 96, 97, 90, 91, 89, 92, 93, 76, 77, 78, 81, 87, 85, 88, 86, 84, 83, 82, 80, 79, 48, 40, 49, 39, 38, 37, 36, 34, 32, 60, 64, 58, 57, 59, 65, 66, 55, 54, 56, 52, 50, 51, 53, 71, 72, 70, 69, 68, 67, 11, 10, 9, 13, 12, 15, 16, 21, 22, 23, 24, 30, 29, 28, 25, 26, 27, 331, 332, 333, 326, 328, 327, 323, 324, 325, 330, 329, 314, 315, 318, 317, 319, 316, 310, 309, 311, 44, 43, 42, 41, 47, 46, 45, 307, 306, 305, 304, 990, 296, 297, 299, 298, 300, 301, 302, 303, 116, 118, 123, 122, 121, 119, 258, 257, 256, 255, 254, 253, 252, 251, 250, 242, 243, 244, 245, 263, 262, 230, 231, 229, 227, 228, 264, 265, 266, 267, 268, 270, 269, 273, 260, 261, 246, 247, 249, 248, 259, 271, 272, 468, 467, 466, 465, 464, 461, 460, 423, 424, 425, 419, 417, 418, 420, 421, 422, 463, 462, 459, 427, 428, 429, 456, 457, 458, 455, 454, 452, 451, 450, 449, 442, 443, 444, 446, 445, 433, 432, 431, 430, 996, 434, 435, 436, 437, 438, 440, 439, 441, 630, 631, 629, 628, 609, 608, 607, 605, 606, 604, 627, 626, 610, 625, 624, 991, 632, 633, 634, 635, 636, 637, 621, 620, 622, 623, 614, 615, 616, 617, 618, 619, 732, 748, 749, 745, 747, 746, 753, 752, 751, 750, 791, 790, 789, 788, 755, 756, 757, 785, 786, 787, 792, 793, 794, 795, 796, 797, 798, 799, 804, 803, 801, 802, 780, 782, 783, 784, 759, 758, 760, 761, 773, 774, 772, 771, 770, 769, 768, 767, 765, 766, 959, 958, 957, 956, 938, 954, 955, 953, 952, 992, 960, 961, 962, 963, 964, 965, 966, 967, 975, 973, 972, 971, 970, 969, 986, 985, 984, 983, 982, 980, 981, 979, 974, 978, 977, 976, 701, 740, 741, 742, 744, 743, 737, 734, 733, 735, 736, 738, 739, 703, 702, 699, 698, 697, 696, 705, 695, 694, 693, 689, 688, 687, 691, 690, 692, 667, 666, 665, 668, 671, 672, 677, 678, 679, 680, 681, 684, 682, 683, 987, 988, 989, 685, 686, 718, 719, 717, 716, 715, 714, 713, 712, 710, 711, 722, 721, 720, 708, 707, 709, 728, 726, 727, 723, 724, 725, 662, 664, 663, 669, 670, 673, 676, 674, 675, 763, 762, 999, 764, 778, 779, 777, 775, 776, 912, 911, 910, 909, 908, 903, 902, 905, 904, 915, 916, 917, 921, 920, 919, 918, 901, 900, 899, 898, 897, 896, 895, 893, 894, 844, 848, 847, 845, 846, 891, 892, 890, 889, 888, 876, 877, 878, 879, 880, 881, 882, 883, 884, 885, 887, 886, 922, 923, 924, 926, 931, 930, 929, 928, 927, 925, 914, 913, 933, 935, 934, 936, 937, 932, 939, 940, 941, 942, 943, 946, 947, 944, 945, 951, 950, 948, 949, 968, 700, 704, 706, 729, 730, 731, 613, 612, 611, 602, 603, 447, 448, 584, 583, 582, 581, 580, 586, 585, 574, 575, 576, 577, 572, 573, 571, 590, 558, 591, 592, 593, 594, 595, 596, 598, 599, 600, 597, 587, 588, 589, 556, 555, 557, 559, 553, 554, 552, 551, 550, 549, 548, 561, 562, 560, 546, 545, 518, 517, 519, 520, 516, 515, 566, 565, 567, 568, 569, 544, 539, 543, 542, 541, 547, 570, 824, 823, 822, 821, 820, 810, 811, 819, 817, 812, 813, 814, 840, 839, 838, 837, 836, 835, 834, 829, 828, 832, 833, 830, 831, 825, 826, 827, 816, 815, 818, 809, 808, 1000, 805, 806, 807, 800, 781, 754, 601, 564, 563, 540, 538, 536, 535, 534, 532, 533, 527, 526, 525, 528, 529, 523, 522, 521, 524, 514, 513, 578, 579, 997, 477, 478, 479, 471, 470, 469, 476, 475, 474, 473, 472, 374, 375, 373, 640, 641, 660, 661, 659, 355, 354, 353, 344, 343, 340, 341, 342, 335, 336, 334, 337, 396, 395, 399, 400, 398, 397, 408, 407, 412, 426, 404, 288, 289, 290, 291, 321, 320, 322, 293, 292, 294, 295, 308, 129, 128, 127, 126, 124, 125, 146, 145, 141, 142, 143, 147, 148, 149, 151, 150, 152, 153, 154, 163, 155, 162, 161, 158, 157, 184, 183, 182, 181, 180, 179, 178, 173, 174, 177, 176, 175, 172, 169, 170, 171, 160, 159, 156, 164, 165, 166, 167, 168, 239, 237, 238, 189, 188, 191, 192, 193, 194, 186, 240, 241, 185, 187, 190, 217, 218, 219, 214, 213, 215, 211, 216, 210, 212, 222, 221, 235, 236, 220, 233, 234, 232, 223, 224, 225, 226, 496, 495, 494, 493, 492, 482, 491, 483, 484, 485, 489, 490, 486, 487, 488, 498, 497, 500, 501, 506, 507, 508, 509, 510, 511, 512, 998, 504, 505, 502, 503, 209, 208, 207, 206, 205, 204, 203, 202, 198, 197, 200, 199, 196, 195, 201, 995, 994, 140, 139, 138, 137, 136, 131, 130, 144, 75, 74, 73, 135, 134, 98, 993, 106, 107, 108, 62, 63, 61, 31, 33, 35, 312, 313, 20, 17, 18, 19, 14, 8, 6, 7, 2, 3, 4, 1, 5, 0, 274, 275, 120, 480, 481, 499, 530, 531, 537, 853, 854, 855, 861, 862, 863, 864, 865, 860, 859, 858, 849, 852, 851, 857, 856, 850, 842, 843, 873, 874, 875, 870, 869, 868, 871, 872, 867, 866, 841, 907, 906, 1001, 453]\n"
          ]
        }
      ]
    },
    {
      "cell_type": "code",
      "source": [
        "instance229.solve()"
      ],
      "metadata": {
        "id": "W5-6X3UgvYYg"
      },
      "execution_count": 25,
      "outputs": []
    },
    {
      "cell_type": "code",
      "source": [
        "print(\"Distance for pr1002.tsp input: \", instance229.ansFitness)\n",
        "print(\"List of cities: \", instance229.ans)"
      ],
      "metadata": {
        "colab": {
          "base_uri": "https://localhost:8080/"
        },
        "id": "uwGU_mZq0Lm6",
        "outputId": "e5d4b1da-89eb-46c5-a1d8-8a0a252ce89e"
      },
      "execution_count": 26,
      "outputs": [
        {
          "output_type": "stream",
          "name": "stdout",
          "text": [
            "Distance for pr1002.tsp input:  1963\n",
            "List of cities:  [62, 60, 59, 61, 64, 58, 54, 53, 57, 52, 18, 10, 9, 7, 6, 4, 3, 5, 8, 2, 0, 1, 12, 13, 14, 21, 20, 19, 15, 11, 16, 17, 80, 81, 82, 56, 55, 23, 22, 83, 24, 84, 85, 88, 87, 78, 79, 89, 76, 75, 74, 73, 90, 91, 92, 93, 99, 100, 98, 97, 96, 95, 94, 36, 35, 34, 33, 32, 29, 30, 28, 31, 38, 39, 40, 179, 177, 181, 182, 184, 185, 186, 196, 197, 195, 194, 191, 192, 193, 190, 189, 188, 187, 48, 46, 47, 49, 183, 45, 41, 44, 43, 42, 163, 164, 172, 171, 162, 134, 131, 130, 129, 127, 126, 125, 110, 113, 116, 115, 117, 118, 119, 120, 122, 121, 114, 111, 105, 106, 104, 103, 107, 108, 109, 123, 124, 165, 37, 112, 128, 137, 133, 132, 170, 169, 168, 166, 167, 176, 178, 180, 174, 175, 198, 161, 160, 159, 158, 155, 153, 150, 151, 152, 135, 136, 139, 140, 142, 143, 144, 148, 147, 146, 145, 154, 149, 156, 157, 203, 211, 205, 206, 207, 208, 209, 210, 202, 201, 220, 221, 222, 199, 200, 219, 218, 215, 214, 213, 212, 204, 141, 138, 173, 69, 70, 71, 72, 68, 66, 67, 77, 63, 65, 50, 51, 25, 26, 27, 101, 102, 86, 224, 223, 217, 216, 226, 225, 227, 228]\n"
          ]
        }
      ]
    },
    {
      "cell_type": "code",
      "source": [],
      "metadata": {
        "id": "5wR3nUJw4sMM"
      },
      "execution_count": null,
      "outputs": []
    }
  ]
}