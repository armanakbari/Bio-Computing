{
  "nbformat": 4,
  "nbformat_minor": 0,
  "metadata": {
    "colab": {
      "provenance": []
    },
    "kernelspec": {
      "name": "python3",
      "display_name": "Python 3"
    },
    "language_info": {
      "name": "python"
    }
  },
  "cells": [
    {
      "cell_type": "code",
      "source": [
        "import math\n",
        "import random \n",
        "import numpy as np"
      ],
      "metadata": {
        "id": "OHLjX8J_eyEy"
      },
      "execution_count": 10,
      "outputs": []
    },
    {
      "cell_type": "code",
      "source": [
        "def inputpr1002(path):\n",
        "    def dist(i,j):\n",
        "        res = math.sqrt((nodes[i][0]-nodes[j][0])**2+(nodes[i][1]-nodes[j][1])**2)\n",
        "        return int(res)\n",
        "    \n",
        "    f = open(path)\n",
        "    inp = f.read()\n",
        "    f.close()\n",
        "\n",
        "    nodes = [(float(e.split()[1]),float(e.split()[2])) for e in inp.split('\\n')[6:-1]]\n",
        "\n",
        "    mat = [[dist(i,j) for j in range(len(nodes))] for i in range(len(nodes))]\n",
        "    return len(mat),mat\n",
        "\n",
        "\n",
        "size, adj = inputpr1002('/content/pr1002.tsp')"
      ],
      "metadata": {
        "id": "YAeRchSYeuEV"
      },
      "execution_count": 11,
      "outputs": []
    },
    {
      "cell_type": "markdown",
      "source": [
        "The given code defines a function called inputpr1002 that takes a file path as input. The function reads the contents of the file specified by the path, extracts the coordinates of nodes from the file, calculates the distances between nodes using the Euclidean distance formula, and constructs a matrix (mat) representing the distances between each pair of nodes. Finally, the function returns the size of the matrix (len(mat)) and the matrix itself (mat). In the last line, the function is called with the file path '/content/pr1002.tsp', and the returned values are assigned to the variables size and adj."
      ],
      "metadata": {
        "id": "Wwk-4oNxfcfy"
      }
    },
    {
      "cell_type": "code",
      "execution_count": 12,
      "metadata": {
        "id": "CjaxfJRUbj8e"
      },
      "outputs": [],
      "source": [
        "class Particle:\n",
        "    def __init__(self, initial_position):\n",
        "        self.position = initial_position\n",
        "        self.velocity = np.zeros_like(initial_position)\n",
        "        self.best_position = initial_position\n",
        "        self.best_fitness = float('inf')"
      ]
    },
    {
      "cell_type": "code",
      "source": [
        "def pso_tsp(adj_matrix, num_particles, num_iterations, inertia_weight, cognitive_weight, social_weight):\n",
        "    num_cities = len(adj_matrix)\n",
        "    \n",
        "    particles = []\n",
        "    for _ in range(num_particles):\n",
        "        initial_position = np.random.permutation(num_cities)\n",
        "        particle = Particle(initial_position)\n",
        "        particles.append(particle)\n",
        "    \n",
        "    global_best_position = None\n",
        "    global_best_fitness = float('inf')\n",
        "\n",
        "    for _ in range(num_iterations):\n",
        "        for particle in particles:\n",
        "            fitness = calculate_fitness(adj_matrix, particle.position)\n",
        "\n",
        "            if fitness < particle.best_fitness:\n",
        "                particle.best_position = particle.position.copy()\n",
        "                particle.best_fitness = fitness\n",
        "            \n",
        "            if fitness < global_best_fitness:\n",
        "                global_best_position = particle.position.copy()\n",
        "                global_best_fitness = fitness\n",
        "            particle.velocity = (inertia_weight * particle.velocity +\n",
        "                                 cognitive_weight * np.random.rand() * (particle.best_position - particle.position) +\n",
        "                                 social_weight * np.random.rand() * (global_best_position - particle.position))\n",
        "            particle.position = np.argsort(particle.velocity)  \n",
        "    return global_best_position, global_best_fitness\n"
      ],
      "metadata": {
        "id": "wFc_0f6uf130"
      },
      "execution_count": 23,
      "outputs": []
    },
    {
      "cell_type": "markdown",
      "source": [
        "The function pso_tsp takes as input an adjacency matrix representing the distances between cities, the number of particles (solutions) to use, the number of iterations, and the weights for inertia, cognitive, and social components.\n",
        "\n",
        "The algorithm initializes a set of particles, where each particle represents a possible solution to the TSP. The particles are randomly initialized with different permutations of city positions. The global best position and fitness are initially set to infinity.\n",
        "\n",
        "The algorithm then iterates for the specified number of iterations. Within each iteration, it updates the fitness of each particle by calculating the total distance traveled based on the adjacency matrix. If the fitness of a particle is better than its personal best fitness, the particle updates its personal best position and fitness. If the fitness of a particle is better than the global best fitness, the global best position and fitness are updated.\n",
        "\n",
        "Next, the velocity of each particle is updated based on the inertia, cognitive, and social components. The velocity update is performed by considering the current velocity, the difference between the personal best position and current position (cognitive component), and the difference between the global best position and current position (social component). The new velocity is then used to update the position of each particle by sorting the velocity array.\n",
        "\n",
        "Finally, the function returns the global best position (the best solution found) and its fitness (the total distance traveled for that solution)."
      ],
      "metadata": {
        "id": "Lf64LOG-BZhd"
      }
    },
    {
      "cell_type": "code",
      "source": [
        "def calculate_fitness(adj_matrix, tour):\n",
        "    total_distance = 0\n",
        "    num_cities = len(tour)\n",
        "    for i in range(num_cities):\n",
        "        total_distance += adj_matrix[tour[i]][tour[(i+1) % num_cities]]\n",
        "    return total_distance"
      ],
      "metadata": {
        "id": "lBDE8Kmne3qo"
      },
      "execution_count": 24,
      "outputs": []
    },
    {
      "cell_type": "code",
      "source": [
        "adj_matrix = np.array(adj)\n",
        "\n",
        "num_particles = 50\n",
        "num_iterations = 100\n",
        "inertia_weight = 0.8\n",
        "cognitive_weight = 2.0\n",
        "social_weight = 1.8\n",
        "\n",
        "best_tour, best_fitness = pso_tsp(adj_matrix, num_particles, num_iterations, inertia_weight, cognitive_weight, social_weight)\n",
        "\n",
        "print(\"Best tour:\", best_tour)\n",
        "print(\"Best fitness:\", best_fitness)"
      ],
      "metadata": {
        "id": "vHPkcoAcf8CR",
        "colab": {
          "base_uri": "https://localhost:8080/"
        },
        "outputId": "9c9f3e55-01f1-489d-c2ba-1d612054e77d"
      },
      "execution_count": 25,
      "outputs": [
        {
          "output_type": "stream",
          "name": "stdout",
          "text": [
            "Best tour: [  0 145 146 147 148 149 150 151 152 153 154 155 144 156 158 159 160 161\n",
            " 162 163 164 165 166 167 168 157 143 142 141 116 117 118 119 120 121 122\n",
            " 123 124 125 126 127 128 129 130 131 132 133 134 135 136 137 138 139 140\n",
            " 169 170 171 172 202 203 204 205 206 207 208 209 210 211 212 213 214 215\n",
            " 216 217 218 219 220 221 222 223 224 225 226 201 115 200 198 173 174 175\n",
            " 176 177 178 179 180 181 182 183 184 185 186 187 188 189 190 191 192 193\n",
            " 194 195 196 197 199 227 114 112  30  31  32  33  34  35  36  37  38  39\n",
            "  40  29  41  43  44  45  46  47  48  49  50  51  52  53  42  28  27  26\n",
            "   1   2   3   4   5   6   7   8   9  10  11  12  13  14  15  16  17  18\n",
            "  19  20  21  22  23  24  25  54  55  56  57  87  88  89  90  91  92  93\n",
            "  94  95  96  97  98  99 100 101 102 103 104 105 106 107 108 109 110 111\n",
            "  86 113  85  83  58  59  60  61  62  63  64  65  66  67  68  69  70  71\n",
            "  72  73  74  75  76  77  78  79  80  81  82  84 228]\n",
            "Best fitness: 4483\n"
          ]
        }
      ]
    },
    {
      "cell_type": "code",
      "source": [
        "f = open(\"/content/gr229.tsp\")\n",
        "inp = f.read()\n",
        "f.close()\n",
        "nodes = [(float(e.split()[1]),float(e.split()[2])) for e in inp.split('\\n')[7:-2]]\n",
        "adj = [[int(math.sqrt((nodes[i][0]-nodes[j][0])**2+(nodes[i][1]-nodes[j][1])**2)) for j in range(len(nodes))] for i in range(len(nodes))]"
      ],
      "metadata": {
        "id": "RKu3yX8uwLHT"
      },
      "execution_count": 26,
      "outputs": []
    },
    {
      "cell_type": "code",
      "source": [
        "adj_matrix = np.array(adj)\n",
        "\n",
        "num_particles = 50\n",
        "num_iterations = 100\n",
        "inertia_weight = 0.8\n",
        "cognitive_weight = 2.0\n",
        "social_weight = 1.8\n",
        "\n",
        "best_tour, best_fitness = pso_tsp(adj_matrix, num_particles, num_iterations, inertia_weight, cognitive_weight, social_weight)\n",
        "\n",
        "print(\"Best tour:\", best_tour)\n",
        "print(\"Best fitness:\", best_fitness)"
      ],
      "metadata": {
        "colab": {
          "base_uri": "https://localhost:8080/"
        },
        "id": "bFOYYcuE5c3C",
        "outputId": "9ff1dc5d-5958-44b8-d317-14b92efa5bd7"
      },
      "execution_count": 27,
      "outputs": [
        {
          "output_type": "stream",
          "name": "stdout",
          "text": [
            "Best tour: [  0 145 146 147 148 149 150 151 152 153 154 155 144 156 158 159 160 161\n",
            " 162 163 164 165 166 167 168 157 143 142 141 116 117 118 119 120 121 122\n",
            " 123 124 125 126 127 128 129 130 131 132 133 134 135 136 137 138 139 140\n",
            " 169 170 171 172 202 203 204 205 206 207 208 209 210 211 212 213 214 215\n",
            " 216 217 218 219 220 221 222 223 224 225 226 201 115 200 198 173 174 175\n",
            " 176 177 178 179 180 181 182 183 184 185 186 187 188 189 190 191 192 193\n",
            " 194 195 196 197 199 227 114 112  30  31  32  33  34  35  36  37  38  39\n",
            "  40  29  41  43  44  45  46  47  48  49  50  51  52  53  42  28  27  26\n",
            "   1   2   3   4   5   6   7   8   9  10  11  12  13  14  15  16  17  18\n",
            "  19  20  21  22  23  24  25  54  55  56  57  87  88  89  90  91  92  93\n",
            "  94  95  96  97  98  99 100 101 102 103 104 105 106 107 108 109 110 111\n",
            "  86 113  85  83  58  59  60  61  62  63  64  65  66  67  68  69  70  71\n",
            "  72  73  74  75  76  77  78  79  80  81  82  84 228]\n",
            "Best fitness: 4483\n"
          ]
        }
      ]
    },
    {
      "cell_type": "code",
      "source": [],
      "metadata": {
        "id": "WmCyYXpT5eGU"
      },
      "execution_count": null,
      "outputs": []
    }
  ]
}