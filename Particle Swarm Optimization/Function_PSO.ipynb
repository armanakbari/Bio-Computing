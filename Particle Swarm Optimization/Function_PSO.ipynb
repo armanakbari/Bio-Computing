{
  "nbformat": 4,
  "nbformat_minor": 0,
  "metadata": {
    "colab": {
      "provenance": []
    },
    "kernelspec": {
      "name": "python3",
      "display_name": "Python 3"
    },
    "language_info": {
      "name": "python"
    }
  },
  "cells": [
    {
      "cell_type": "markdown",
      "source": [
        "Particle Swarm Optimization (PSO) is a metaheuristic optimization algorithm inspired by the social behavior of bird flocking or fish schooling. In PSO, a swarm of particles moves through a search space to find the optimal solution. Each particle represents a potential solution, and the swarm explores the search space by updating the positions and velocities of the particles based on their own experience and the experiences of neighboring particles."
      ],
      "metadata": {
        "id": "DJH7VK-ib3EE"
      }
    },
    {
      "cell_type": "code",
      "source": [
        "import random\n",
        "import math"
      ],
      "metadata": {
        "id": "Uzy313aTcHV9"
      },
      "execution_count": null,
      "outputs": []
    },
    {
      "cell_type": "code",
      "execution_count": null,
      "metadata": {
        "id": "dYzX4oV6unp_"
      },
      "outputs": [],
      "source": [
        "class Particle:\n",
        "    def __init__(self):\n",
        "        self.position = [random.uniform(-10, 10), random.uniform(-10, 10)]\n",
        "        self.velocity = [0, 0]\n",
        "        self.best_position = self.position.copy()\n",
        "\n",
        "    def evaluate_fitness(self):\n",
        "        x, y = self.position\n",
        "        fitness = abs(math.sin(x) * math.cos(y) * math.exp(abs(1 - (math.sqrt(x ** 2 + y ** 2) / math.pi))))\n",
        "        return fitness"
      ]
    },
    {
      "cell_type": "markdown",
      "source": [
        "In this implementation, the Particle class represents an individual particle in the swarm. Each particle has a position, velocity, and its personal best position. The evaluate_fitness method calculates the fitness value of a particle based on the given objective function."
      ],
      "metadata": {
        "id": "C6rn35yGcFPk"
      }
    },
    {
      "cell_type": "code",
      "source": [
        "def pso(num_particles, num_iterations):\n",
        "    swarm = [Particle() for _ in range(num_particles)]\n",
        "    global_best_position = None\n",
        "    global_best_fitness = float('-inf')  # Initialize with negative infinity\n",
        "\n",
        "    for _ in range(num_iterations):\n",
        "        for particle in swarm:\n",
        "            fitness = particle.evaluate_fitness()\n",
        "            if fitness > global_best_fitness:  # Update if fitness is greater\n",
        "                global_best_fitness = fitness\n",
        "                global_best_position = particle.position.copy()\n",
        "\n",
        "            if fitness > particle.evaluate_fitness():  # Update personal best if fitness is greater\n",
        "                particle.best_position = particle.position.copy()\n",
        "\n",
        "            # Update velocity and position\n",
        "            w = 0.5  # Inertia weight\n",
        "            c1 = 1.0  # Cognitive factor\n",
        "            c2 = 2.0  # Social factor\n",
        "\n",
        "            for i in range(2):\n",
        "                r1 = random.random()\n",
        "                r2 = random.random()\n",
        "\n",
        "                particle.velocity[i] = (w * particle.velocity[i] +\n",
        "                                        c1 * r1 * (particle.best_position[i] - particle.position[i]) +\n",
        "                                        c2 * r2 * (global_best_position[i] - particle.position[i]))\n",
        "                particle.position[i] += particle.velocity[i]\n",
        "\n",
        "                # Ensure the particle stays within the search space\n",
        "                particle.position[i] = max(min(particle.position[i], 10), -10)\n",
        "\n",
        "    return global_best_position, global_best_fitness\n"
      ],
      "metadata": {
        "id": "S10l1fKKbakE"
      },
      "execution_count": null,
      "outputs": []
    },
    {
      "cell_type": "markdown",
      "source": [
        "The pso function performs the main PSO algorithm. It initializes a swarm of particles and iteratively updates their positions and velocities. The global best position and fitness values are updated whenever a particle finds a better solution. The inertia weight, cognitive factor, and social factor control the particle's movement.\n",
        "\n",
        "The algorithm terminates after a specified number of iterations. The resulting global best position represents the optimal solution to the optimization problem, and the corresponding fitness value is the minimum value achieved.\n",
        "\n",
        "Simply adjust the num_particles and num_iterations parameters to suit your needs. The algorithm will search for the minimum value within the given search space of -10 to 10 for both x and y."
      ],
      "metadata": {
        "id": "QulUUd7ncWub"
      }
    },
    {
      "cell_type": "code",
      "source": [
        "# Usage\n",
        "num_particles = 61\n",
        "num_iterations = 9999\n",
        "\n",
        "best_position, best_fitness = pso(num_particles, num_iterations)\n",
        "print(\"Optimal Solution:\")\n",
        "print(\"x =\", best_position[0])\n",
        "print(\"y =\", best_position[1])\n",
        "print(\"Maximum Value:\", best_fitness)"
      ],
      "metadata": {
        "colab": {
          "base_uri": "https://localhost:8080/"
        },
        "id": "-GAYyp_hcMKR",
        "outputId": "aeb44eef-4604-40b3-dad2-e45671c9dd9e"
      },
      "execution_count": null,
      "outputs": [
        {
          "output_type": "stream",
          "name": "stdout",
          "text": [
            "Optimal Solution:\n",
            "x = 8.050144236929556\n",
            "y = 9.663891681184136\n",
            "Maximum Value: 19.20826226707709\n"
          ]
        }
      ]
    },
    {
      "cell_type": "code",
      "source": [],
      "metadata": {
        "id": "pkauIQRbcFsJ"
      },
      "execution_count": null,
      "outputs": []
    }
  ]
}